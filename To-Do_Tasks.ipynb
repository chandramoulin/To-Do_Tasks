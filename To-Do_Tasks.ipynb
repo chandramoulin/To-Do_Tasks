{
 "cells": [
  {
   "cell_type": "code",
   "execution_count": 2,
   "id": "b7e31b48",
   "metadata": {},
   "outputs": [
    {
     "name": "stdout",
     "output_type": "stream",
     "text": [
      "Menu\n",
      "A. Add an task\n",
      "B. Mark as Done\n",
      "C. View Tasks\n",
      "D. Exit\n",
     
