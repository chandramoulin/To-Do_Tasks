{
 "cells": [
  {
   "cell_type": "code",
   "execution_count": null,
   "id": "c141353e",
   "metadata": {},
   "outputs": [],
   "source": [
    "user_input = ''\n",
    "tasks = []\n",
    "\n",
    "def show_menu():\n",
    "    print('Menu')\n",
    "    print('A. Add an task')\n",
    "    print('B. Mark as Done')\n",
    "    print('C. View Tasks')\n",
    "    print('D. Exit')\n",
    "\n",
    "while user_input != 4:\n",
    "    show_menu()\n",
    "    user_input = input('Enter your Choice')\n",
    "    \n",
    "    if user_input == '1':\n",
    "        item = input('Tasks to be do')\n",
    "        data.append(item)\n",
    "        print('Added Task', item)\n",
    "        \n",
    "    elif user_input == '2':\n",
    "        item = input('Tasks that are done')\n",
    "        if item in tasks:\n",
    "            data.remove(item)\n",
    "            print('Completed Task', item)\n",
    "        else:\n",
    "            print('Task doesnot exist in the list')\n",
    "    elif user_input == '3':\n",
    "        print('All the tasks to-do : ')\n",
    "        for item in tasks:\n",
    "            print(item)\n",
    "    elif user_input == '4':\n",
    "        print('Good Bye and Have a Good Day' )"
   ]
  }
 ],
 "metadata": {
  "kernelspec": {
   "display_name": "Python 3",
   "language": "python",
   "name": "python3"
  },
  "language_info": {
   "codemirror_mode": {
    "name": "ipython",
    "version": 3
   },
   "file_extension": ".py",
   "mimetype": "text/x-python",
   "name": "python",
   "nbconvert_exporter": "python",
   "pygments_lexer": "ipython3",
   "version": "3.8.8"
  }
 },
 "nbformat": 4,
 "nbformat_minor": 5
}
